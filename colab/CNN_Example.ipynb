{
  "nbformat": 4,
  "nbformat_minor": 0,
  "metadata": {
    "colab": {
      "name": "CNN-Example.ipynb",
      "provenance": [],
      "collapsed_sections": []
    },
    "kernelspec": {
      "name": "python3",
      "display_name": "Python 3"
    },
    "accelerator": "GPU"
  },
  "cells": [
    {
      "cell_type": "markdown",
      "metadata": {
        "id": "L_Vy41alwQfx",
        "colab_type": "text"
      },
      "source": [
        "# Enabling and testing the GPU\n",
        "First, you'll need to enable GPUs for the notebook:\n",
        "\n",
        "Navigate to Edit→Notebook Settings\n",
        "select GPU from the Hardware Accelerator drop-down"
      ]
    },
    {
      "cell_type": "code",
      "metadata": {
        "id": "MjBDAsdNspSn",
        "colab_type": "code",
        "colab": {
          "base_uri": "https://localhost:8080/",
          "height": 34
        },
        "outputId": "f60c917c-04e2-4a93-8c35-6d201ef49265"
      },
      "source": [
        "import tensorflow as tf\n",
        "tf.config.list_physical_devices('GPU')"
      ],
      "execution_count": 2,
      "outputs": [
        {
          "output_type": "execute_result",
          "data": {
            "text/plain": [
              "[PhysicalDevice(name='/physical_device:GPU:0', device_type='GPU')]"
            ]
          },
          "metadata": {
            "tags": []
          },
          "execution_count": 2
        }
      ]
    },
    {
      "cell_type": "code",
      "metadata": {
        "id": "EL7r_US9dSuf",
        "colab_type": "code",
        "colab": {
          "base_uri": "https://localhost:8080/",
          "height": 34
        },
        "outputId": "17b06d38-6682-49a0-ab10-459e22147a2f"
      },
      "source": [
        "from psutil import virtual_memory\n",
        "virtual_memory().total / 1e9"
      ],
      "execution_count": 1,
      "outputs": [
        {
          "output_type": "execute_result",
          "data": {
            "text/plain": [
              "13.653557248"
            ]
          },
          "metadata": {
            "tags": []
          },
          "execution_count": 1
        }
      ]
    },
    {
      "cell_type": "code",
      "metadata": {
        "id": "iEFtlYo2svnl",
        "colab_type": "code",
        "colab": {
          "base_uri": "https://localhost:8080/",
          "height": 272
        },
        "outputId": "8d96100d-8980-4da9-c5f1-a32031921eec"
      },
      "source": [
        "!git clone https://github.com/lukewood/sota-dqn && cd sota-dqn && pip install ."
      ],
      "execution_count": 3,
      "outputs": [
        {
          "output_type": "stream",
          "text": [
            "Cloning into 'sota-dqn'...\n",
            "remote: Enumerating objects: 306, done.\u001b[K\n",
            "remote: Counting objects: 100% (306/306), done.\u001b[K\n",
            "remote: Compressing objects: 100% (204/204), done.\u001b[K\n",
            "remote: Total 306 (delta 143), reused 229 (delta 79), pack-reused 0\u001b[K\n",
            "Receiving objects: 100% (306/306), 1.83 MiB | 2.02 MiB/s, done.\n",
            "Resolving deltas: 100% (143/143), done.\n",
            "Processing /content/sota-dqn\n",
            "Building wheels for collected packages: sota-dqn\n",
            "  Building wheel for sota-dqn (setup.py) ... \u001b[?25l\u001b[?25hdone\n",
            "  Created wheel for sota-dqn: filename=sota_dqn-0.0.7-cp36-none-any.whl size=7345 sha256=f24ea5a6679211946d3517991515ba85917f0b217afb78eb2d74793f9c2e9c89\n",
            "  Stored in directory: /root/.cache/pip/wheels/cc/3b/80/e906e6bc3272a50c87a131d2480e9c22714cec0a49708ec716\n",
            "Successfully built sota-dqn\n",
            "Installing collected packages: sota-dqn\n",
            "Successfully installed sota-dqn-0.0.7\n"
          ],
          "name": "stdout"
        }
      ]
    },
    {
      "cell_type": "code",
      "metadata": {
        "id": "BYe-ShNE1vVu",
        "colab_type": "code",
        "colab": {
          "base_uri": "https://localhost:8080/",
          "height": 187
        },
        "outputId": "48f94375-e389-44ce-ed50-48561a63e016"
      },
      "source": [
        "!pip show sota_dqn"
      ],
      "execution_count": 4,
      "outputs": [
        {
          "output_type": "stream",
          "text": [
            "Name: sota-dqn\n",
            "Version: 0.0.7\n",
            "Summary: State of the art opinionanted DQN training and inference\n",
            "Home-page: https://github.com/lukewood/sota-dqn\n",
            "Author: Luke Wood\n",
            "Author-email: lukewoodcs@gmail.com\n",
            "License: MIT\n",
            "Location: /usr/local/lib/python3.6/dist-packages\n",
            "Requires: \n",
            "Required-by: \n"
          ],
          "name": "stdout"
        }
      ]
    },
    {
      "cell_type": "code",
      "metadata": {
        "id": "iO-F2N9u2p1s",
        "colab_type": "code",
        "colab": {
          "base_uri": "https://localhost:8080/",
          "height": 952
        },
        "outputId": "8120cb39-4e0d-400b-e217-f47e2ef1d4b5"
      },
      "source": [
        "!pip install gym\n",
        "!apt-get install python-opengl -y\n",
        "!apt install xvfb -y\n",
        "!pip install gym[atari]"
      ],
      "execution_count": 5,
      "outputs": [
        {
          "output_type": "stream",
          "text": [
            "Requirement already satisfied: gym in /usr/local/lib/python3.6/dist-packages (0.17.2)\n",
            "Requirement already satisfied: scipy in /usr/local/lib/python3.6/dist-packages (from gym) (1.4.1)\n",
            "Requirement already satisfied: cloudpickle<1.4.0,>=1.2.0 in /usr/local/lib/python3.6/dist-packages (from gym) (1.3.0)\n",
            "Requirement already satisfied: numpy>=1.10.4 in /usr/local/lib/python3.6/dist-packages (from gym) (1.18.5)\n",
            "Requirement already satisfied: pyglet<=1.5.0,>=1.4.0 in /usr/local/lib/python3.6/dist-packages (from gym) (1.5.0)\n",
            "Requirement already satisfied: future in /usr/local/lib/python3.6/dist-packages (from pyglet<=1.5.0,>=1.4.0->gym) (0.16.0)\n",
            "Reading package lists... Done\n",
            "Building dependency tree       \n",
            "Reading state information... Done\n",
            "The following package was automatically installed and is no longer required:\n",
            "  libnvidia-common-440\n",
            "Use 'apt autoremove' to remove it.\n",
            "Suggested packages:\n",
            "  libgle3\n",
            "The following NEW packages will be installed:\n",
            "  python-opengl\n",
            "0 upgraded, 1 newly installed, 0 to remove and 35 not upgraded.\n",
            "Need to get 496 kB of archives.\n",
            "After this operation, 5,416 kB of additional disk space will be used.\n",
            "Get:1 http://archive.ubuntu.com/ubuntu bionic/universe amd64 python-opengl all 3.1.0+dfsg-1 [496 kB]\n",
            "Fetched 496 kB in 2s (259 kB/s)\n",
            "Selecting previously unselected package python-opengl.\n",
            "(Reading database ... 144487 files and directories currently installed.)\n",
            "Preparing to unpack .../python-opengl_3.1.0+dfsg-1_all.deb ...\n",
            "Unpacking python-opengl (3.1.0+dfsg-1) ...\n",
            "Setting up python-opengl (3.1.0+dfsg-1) ...\n",
            "Reading package lists... Done\n",
            "Building dependency tree       \n",
            "Reading state information... Done\n",
            "The following package was automatically installed and is no longer required:\n",
            "  libnvidia-common-440\n",
            "Use 'apt autoremove' to remove it.\n",
            "The following NEW packages will be installed:\n",
            "  xvfb\n",
            "0 upgraded, 1 newly installed, 0 to remove and 35 not upgraded.\n",
            "Need to get 784 kB of archives.\n",
            "After this operation, 2,266 kB of additional disk space will be used.\n",
            "Get:1 http://archive.ubuntu.com/ubuntu bionic-updates/universe amd64 xvfb amd64 2:1.19.6-1ubuntu4.4 [784 kB]\n",
            "Fetched 784 kB in 2s (388 kB/s)\n",
            "Selecting previously unselected package xvfb.\n",
            "(Reading database ... 146842 files and directories currently installed.)\n",
            "Preparing to unpack .../xvfb_2%3a1.19.6-1ubuntu4.4_amd64.deb ...\n",
            "Unpacking xvfb (2:1.19.6-1ubuntu4.4) ...\n",
            "Setting up xvfb (2:1.19.6-1ubuntu4.4) ...\n",
            "Processing triggers for man-db (2.8.3-2ubuntu0.1) ...\n",
            "Requirement already satisfied: gym[atari] in /usr/local/lib/python3.6/dist-packages (0.17.2)\n",
            "Requirement already satisfied: scipy in /usr/local/lib/python3.6/dist-packages (from gym[atari]) (1.4.1)\n",
            "Requirement already satisfied: pyglet<=1.5.0,>=1.4.0 in /usr/local/lib/python3.6/dist-packages (from gym[atari]) (1.5.0)\n",
            "Requirement already satisfied: numpy>=1.10.4 in /usr/local/lib/python3.6/dist-packages (from gym[atari]) (1.18.5)\n",
            "Requirement already satisfied: cloudpickle<1.4.0,>=1.2.0 in /usr/local/lib/python3.6/dist-packages (from gym[atari]) (1.3.0)\n",
            "Requirement already satisfied: opencv-python; extra == \"atari\" in /usr/local/lib/python3.6/dist-packages (from gym[atari]) (4.1.2.30)\n",
            "Requirement already satisfied: Pillow; extra == \"atari\" in /usr/local/lib/python3.6/dist-packages (from gym[atari]) (7.0.0)\n",
            "Requirement already satisfied: atari-py~=0.2.0; extra == \"atari\" in /usr/local/lib/python3.6/dist-packages (from gym[atari]) (0.2.6)\n",
            "Requirement already satisfied: future in /usr/local/lib/python3.6/dist-packages (from pyglet<=1.5.0,>=1.4.0->gym[atari]) (0.16.0)\n",
            "Requirement already satisfied: six in /usr/local/lib/python3.6/dist-packages (from atari-py~=0.2.0; extra == \"atari\"->gym[atari]) (1.15.0)\n"
          ],
          "name": "stdout"
        }
      ]
    },
    {
      "cell_type": "code",
      "metadata": {
        "id": "lk22htcHx_nl",
        "colab_type": "code",
        "colab": {
          "base_uri": "https://localhost:8080/",
          "height": 34
        },
        "outputId": "3427f476-e645-4889-9c99-441218a1a348"
      },
      "source": [
        "!mkdir results"
      ],
      "execution_count": null,
      "outputs": [
        {
          "output_type": "stream",
          "text": [
            "mkdir: cannot create directory ‘results’: File exists\n"
          ],
          "name": "stdout"
        }
      ]
    },
    {
      "cell_type": "code",
      "metadata": {
        "id": "TDkBrjj_dzaU",
        "colab_type": "code",
        "colab": {}
      },
      "source": [
        "from google.colab import auth\n",
        "auth.authenticate_user()"
      ],
      "execution_count": 7,
      "outputs": []
    },
    {
      "cell_type": "code",
      "metadata": {
        "id": "eUYindxIcJ0x",
        "colab_type": "code",
        "colab": {
          "base_uri": "https://localhost:8080/",
          "height": 51
        },
        "outputId": "61d0985e-cbc7-4994-d98c-899219ecb5b3"
      },
      "source": [
        "!gcloud config set project \"alert-impulse-286723\"\n",
        "!gsutil mb gs://sota-dqn-ms-pacman"
      ],
      "execution_count": null,
      "outputs": [
        {
          "output_type": "stream",
          "text": [
            "Updated property [core/project].\n",
            "Creating gs://sota-dqn-ms-pacman/...\n"
          ],
          "name": "stdout"
        }
      ]
    },
    {
      "cell_type": "code",
      "metadata": {
        "id": "usFr39dDwrYS",
        "colab_type": "code",
        "colab": {
          "base_uri": "https://localhost:8080/",
          "height": 105
        },
        "outputId": "ee19d3ab-4f81-4043-c1ab-eb60d7971cc2"
      },
      "source": [
        "import gym\n",
        "\n",
        "from tensorflow.keras import Input\n",
        "from tensorflow.keras.layers import Concatenate, Conv2D, Dense\n",
        "from tensorflow.keras.layers import MaxPooling2D, Flatten, Reshape\n",
        "\n",
        "import tensorflow.keras as keras\n",
        "\n",
        "from sota_dqn import DQNTrainer, BasicReplayMemory\n",
        "from sota_dqn import DQNTrainer\n",
        "from PIL import Image\n",
        "import numpy as np\n",
        "\n",
        "def grayscale(frame):\n",
        "    return np.array(Image.fromarray(frame).convert('L'))\n",
        "\n",
        "with tf.device('/device:GPU:0'):\n",
        "  env = gym.make(\"MsPacman-v0\")\n",
        "  frame_buffer = 4\n",
        "\n",
        "  input_shape = env.observation_space.shape[:-1]\n",
        "  inputs = []\n",
        "  for i in range(frame_buffer):\n",
        "      layer = Input(shape=input_shape)\n",
        "      inputs.append(layer)\n",
        "\n",
        "  reshape_layer = Reshape(input_shape + (1,))\n",
        "  reshaped = [reshape_layer(i) for i in inputs]\n",
        "\n",
        "  conv_layer = Conv2D(\n",
        "      filters=16, kernel_size=(3, 3),\n",
        "      padding='same', activation='relu'\n",
        "  )\n",
        "  inputs_convoluted = [conv_layer(inp) for inp in reshaped]\n",
        "\n",
        "  pool_layer = MaxPooling2D(pool_size=(3, 3))\n",
        "  inputs_pooled = [pool_layer(i) for i in inputs_convoluted]\n",
        "\n",
        "  conv_layer2 = Conv2D(\n",
        "      filters=16, kernel_size=(2, 2),\n",
        "      padding='same', activation='relu'\n",
        "  )\n",
        "  inputs_convoluted = [conv_layer2(i) for i in inputs_pooled]\n",
        "\n",
        "  pool_layer2 = MaxPooling2D(pool_size=(2, 2))\n",
        "  inputs_pooled2 = [pool_layer2(i) for i in inputs_convoluted]\n",
        "\n",
        "  flatten_layer = Flatten()\n",
        "  flattened = [flatten_layer(i) for i in inputs_pooled2]\n",
        "  merged = Concatenate()(flattened) if frame_buffer != 1 else flattened[0]\n",
        "\n",
        "  d0 = Dense(48, activation='relu', name='dense0')(merged)\n",
        "  d1 = Dense(24, activation='relu', name='dense1')(d0)\n",
        "  d2 = Dense(24, activation='relu', name='dense2')(d1)\n",
        "\n",
        "  outputs = \\\n",
        "      Dense(env.action_space.n, activation=\"relu\", name=\"output_dense\")(d2)\n",
        "\n",
        "  model = keras.Model(\n",
        "      inputs=inputs,\n",
        "      outputs=outputs\n",
        "  )\n",
        "\n",
        "  model.compile(\n",
        "      optimizer=\"adam\",\n",
        "      loss=\"mean_squared_error\"\n",
        "  )\n",
        "\n",
        "  dqn = DQNTrainer(\n",
        "      env=env,\n",
        "      model=model,\n",
        "      observation_preprocessors=[grayscale],\n",
        "      replay_batch_size=32,\n",
        "      epsilon_decay=0.998,\n",
        "      input_shape=input_shape,\n",
        "      memory=BasicReplayMemory(2000),\n",
        "      frame_buffer_size=frame_buffer,\n",
        "      persistence_file=\"gs://sota-dqn-ms-pacman/model\",\n",
        "      save_every=1\n",
        "  )\n",
        "  for i in range(100):\n",
        "    dqn.train(1, max_steps=500)"
      ],
      "execution_count": null,
      "outputs": [
        {
          "output_type": "stream",
          "text": [
            "Saving model to gs://sota-dqn-ms-pacman/model\n",
            "INFO:tensorflow:Assets written to: gs://sota-dqn-ms-pacman/model/assets\n",
            "WARNING:tensorflow:5 out of the last 1596 calls to <function Model.make_predict_function.<locals>.predict_function at 0x7f22c09ff158> triggered tf.function retracing. Tracing is expensive and the excessive number of tracings could be due to (1) creating @tf.function repeatedly in a loop, (2) passing tensors with different shapes, (3) passing Python objects instead of tensors. For (1), please define your @tf.function outside of the loop. For (2), @tf.function has experimental_relax_shapes=True option that relaxes argument shapes that can avoid unnecessary retracing. For (3), please refer to https://www.tensorflow.org/tutorials/customization/performance#python_or_tensor_args and https://www.tensorflow.org/api_docs/python/tf/function for  more details.\n",
            "WARNING:tensorflow:5 out of the last 11 calls to <function Model.make_predict_function.<locals>.predict_function at 0x7f22c09ff158> triggered tf.function retracing. Tracing is expensive and the excessive number of tracings could be due to (1) creating @tf.function repeatedly in a loop, (2) passing tensors with different shapes, (3) passing Python objects instead of tensors. For (1), please define your @tf.function outside of the loop. For (2), @tf.function has experimental_relax_shapes=True option that relaxes argument shapes that can avoid unnecessary retracing. For (3), please refer to https://www.tensorflow.org/tutorials/customization/performance#python_or_tensor_args and https://www.tensorflow.org/api_docs/python/tf/function for  more details.\n"
          ],
          "name": "stdout"
        }
      ]
    },
    {
      "cell_type": "code",
      "metadata": {
        "id": "xEquy4OPGzxK",
        "colab_type": "code",
        "colab": {
          "base_uri": "https://localhost:8080/",
          "height": 265
        },
        "outputId": "661a2b39-b121-49a9-b74a-a052ac04eaac"
      },
      "source": [
        "%matplotlib inline\n",
        "import seaborn as sns\n",
        "import matplotlib.pyplot as plt\n",
        "\n",
        "sns.lineplot(x=range(len(dqn.all_rewards)), y=dqn.all_rewards)\n",
        "plt.show()"
      ],
      "execution_count": 9,
      "outputs": [
        {
          "output_type": "display_data",
          "data": {
            "image/png": "[encoded data removed]",
            "text/plain": [
              "<Figure size 432x288 with 1 Axes>"
            ]
          },
          "metadata": {
            "tags": [],
            "needs_background": "light"
          }
        }
      ]
    },
    {
      "cell_type": "code",
      "metadata": {
        "id": "2JpxhOMmy0_2",
        "colab_type": "code",
        "colab": {
          "base_uri": "https://localhost:8080/",
          "height": 153
        },
        "outputId": "7cfc0423-a5c8-4e21-8b16-d7de11ae35db"
      },
      "source": [
        "!zip -r results.zip results\n",
        "from google.colab import files\n",
        "files.download(\"results.zip\")"
      ],
      "execution_count": null,
      "outputs": [
        {
          "output_type": "stream",
          "text": [
            "  adding: results/ (stored 0%)\n",
            "  adding: results/ms-pacman-rewards.png (deflated 8%)\n",
            "  adding: results/ms-pacman.model/ (stored 0%)\n",
            "  adding: results/ms-pacman.model/variables/ (stored 0%)\n",
            "  adding: results/ms-pacman.model/variables/variables.data-00000-of-00001 (deflated 69%)\n",
            "  adding: results/ms-pacman.model/variables/variables.index (deflated 67%)\n",
            "  adding: results/ms-pacman.model/saved_model.pb (deflated 91%)\n",
            "  adding: results/ms-pacman.model/assets/ (stored 0%)\n"
          ],
          "name": "stdout"
        },
        {
          "output_type": "display_data",
          "data": {
            "application/javascript": [
              "\n",
              "    async function download(id, filename, size) {\n",
              "      if (!google.colab.kernel.accessAllowed) {\n",
              "        return;\n",
              "      }\n",
              "      const div = document.createElement('div');\n",
              "      const label = document.createElement('label');\n",
              "      label.textContent = `Downloading \"${filename}\": `;\n",
              "      div.appendChild(label);\n",
              "      const progress = document.createElement('progress');\n",
              "      progress.max = size;\n",
              "      div.appendChild(progress);\n",
              "      document.body.appendChild(div);\n",
              "\n",
              "      const buffers = [];\n",
              "      let downloaded = 0;\n",
              "\n",
              "      const channel = await google.colab.kernel.comms.open(id);\n",
              "      // Send a message to notify the kernel that we're ready.\n",
              "      channel.send({})\n",
              "\n",
              "      for await (const message of channel.messages) {\n",
              "        // Send a message to notify the kernel that we're ready.\n",
              "        channel.send({})\n",
              "        if (message.buffers) {\n",
              "          for (const buffer of message.buffers) {\n",
              "            buffers.push(buffer);\n",
              "            downloaded += buffer.byteLength;\n",
              "            progress.value = downloaded;\n",
              "          }\n",
              "        }\n",
              "      }\n",
              "      const blob = new Blob(buffers, {type: 'application/binary'});\n",
              "      const a = document.createElement('a');\n",
              "      a.href = window.URL.createObjectURL(blob);\n",
              "      a.download = filename;\n",
              "      div.appendChild(a);\n",
              "      a.click();\n",
              "      div.remove();\n",
              "    }\n",
              "  "
            ],
            "text/plain": [
              "<IPython.core.display.Javascript object>"
            ]
          },
          "metadata": {
            "tags": []
          }
        },
        {
          "output_type": "display_data",
          "data": {
            "application/javascript": [
              "download(\"download_a1b347d2-a099-413e-9f98-5bf6de11dfa4\", \"results.zip\", 10392200)"
            ],
            "text/plain": [
              "<IPython.core.display.Javascript object>"
            ]
          },
          "metadata": {
            "tags": []
          }
        }
      ]
    },
    {
      "cell_type": "markdown",
      "metadata": {
        "id": "T6LYsxGSs30c",
        "colab_type": "text"
      },
      "source": [
        ""
      ]
    }
  ]
}